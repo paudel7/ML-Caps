{
 "cells": [
  {
   "cell_type": "code",
   "execution_count": 1,
   "metadata": {},
   "outputs": [
    {
     "data": {
      "application/vnd.jupyter.widget-view+json": {
       "model_id": "d06562fdbe6b4a0baf60df5da8ea3dee",
       "version_major": 2,
       "version_minor": 0
      },
      "text/plain": [
       "Innotater(children=(HBox(children=(VBox(children=(ImagePad(value=b'\\xff\\xd8\\xff\\xe0\\x00\\x10JFIF\\x00\\x01\\x01\\x0…"
      ]
     },
     "metadata": {},
     "output_type": "display_data"
    }
   ],
   "source": [
    "from jupyter_innotater import *\n",
    "import numpy as np, os\n",
    "\n",
    "animalfns = sorted(os.listdir('./Untitled Folder/'))\n",
    "\n",
    "repeats = 8\n",
    "\n",
    "# Per-photo data\n",
    "classes1 = ['Main','cat', 'dog']\n",
    "targets_type = np.zeros((len(animalfns), 4), dtype=int) # Column vector containing class index\n",
    "\n",
    "# Repeats within each photo\n",
    "targets_bboxes = np.zeros((len(animalfns), repeats, 4), dtype=int) # (x,y,w,h) for each animal\n",
    "\n",
    "\n",
    "Innotater( \n",
    "    ImageInnotation(animalfns, path='./Untitled Folder/', width=400, height=300), \n",
    "    [\n",
    "        MultiClassInnotation(targets_type, name='animalfns', classes=classes1, dropdown=False),\n",
    "        RepeatInnotation(\n",
    "            (BoundingBoxInnotation, targets_bboxes),\n",
    "             max_repeats=repeats, min_repeats=1\n",
    "        )\n",
    "    ]\n",
    ")"
   ]
  },
  {
   "cell_type": "code",
   "execution_count": 12,
   "metadata": {},
   "outputs": [],
   "source": [
    "import pandas as pd\n",
    "df = pd.DataFrame(targets_type,targets_bboxes)\n",
    "df.to_csv('./bounding_boxesML1.csv',index=True)\n",
    "#df.to_csv('./bounding_boxes00.xlsx',index=True) #SYSTEM DOESN'T READ DIRECT XLSX"
   ]
  },
  {
   "cell_type": "code",
   "execution_count": 13,
   "metadata": {},
   "outputs": [],
   "source": [
    "## SHOWS UTF-8 ERROR\n",
    "## FINAL OUTPUT IN XLS IS OBTAINED THOUGH\n",
    "import os\n",
    "import csv\n",
    "import sys\n",
    "import importlib\n",
    "\n",
    "from openpyxl import Workbook\n",
    "from importlib import reload\n",
    "\n",
    "\n",
    "importlib.reload(sys)\n",
    "if sys.version[0] == '2':\n",
    "    reload(sys)\n",
    "    sys.setdefaultencoding(\"utf-8\")\n",
    "\n",
    "if __name__ == '__main__':\n",
    "    workbook = Workbook()\n",
    "    worksheet = workbook.active\n",
    "    with open('./bounding_boxesML1.csv', 'r') as f:\n",
    "        reader = csv.reader(f)\n",
    "        for r, row in enumerate(reader):\n",
    "            for c, col in enumerate(row):\n",
    "                for idx, val in enumerate(col.split(',')):\n",
    "                    cell = worksheet.cell(row=r+1, column=c+1)\n",
    "                    cell.value = val\n",
    "    workbook.save('./output1.xlsx')"
   ]
  },
  {
   "cell_type": "markdown",
   "metadata": {},
   "source": [
    "MANUALLY EDIT THE CSV IN NOTEBOOK TO REMOVE INVERTS AND COMMAS TO BRING CLEAN FORMAT OUTPUT"
   ]
  },
  {
   "cell_type": "code",
   "execution_count": 14,
   "metadata": {},
   "outputs": [
    {
     "name": "stdout",
     "output_type": "stream",
     "text": [
      "done\n"
     ]
    }
   ],
   "source": [
    "#WORKING WELL ! (have to convert csv to xlsx manually)\n",
    "import re\n",
    "#import xlrd\n",
    "import openpyxl \n",
    "from openpyxl import load_workbook ## this one is for reading the excel\n",
    "## AFTER ANNOTATING,FIRST EXPORT .CSV AND THEN SAVE AS .XLSX TO EASE THE QODE READING THAT FILE\n",
    "#workbook = load_workbook(filename=\"C:\\\\Users\\\\paude\\\\ML\\\\output1.xlsx\")\n",
    "workbook = load_workbook(filename=\"./output1.xlsx\")\n",
    "workbook.sheetnames\n",
    "sheet = workbook.active\n",
    "wb = openpyxl.Workbook() # this one is for writing to new excel file\n",
    "sheetnew = wb.active\n",
    "for value in sheet.iter_rows(min_row=2, min_col=1, max_col=1, values_only=True):\n",
    "    value=str(value[0])\n",
    "    value=re.sub(r\"[^a-zA-Z0-9]+\", ' ', value)\n",
    "    value = value.split(\" \")\n",
    "    sheetnew.append(value)\n",
    "#wb.save(filename=\"C:\\\\Users\\\\paude\\\\ML\\\\bbML1_Output.xlsx\")\n",
    "wb.save(filename=\"./bbML1_Output.xlsx\")\n",
    "print('done')"
   ]
  },
  {
   "cell_type": "markdown",
   "metadata": {},
   "source": [
    "PRINT OUTPUT IN THE CELL BELOW"
   ]
  },
  {
   "cell_type": "code",
   "execution_count": 5,
   "metadata": {},
   "outputs": [
    {
     "name": "stdout",
     "output_type": "stream",
     "text": [
      "Class Indices [[0 1 0 0]\n",
      " [0 0 1 0]]\n",
      "Bounding Boxes [[[  5   8 386 239]\n",
      "  [100  30 110 177]\n",
      "  [214  40  38  82]\n",
      "  [231 111  80  83]\n",
      "  [  0   0   0   0]\n",
      "  [  0   0   0   0]\n",
      "  [  0   0   0   0]\n",
      "  [  0   0   0   0]]\n",
      "\n",
      " [[  5   8 386 239]\n",
      "  [ 44  59 124 209]\n",
      "  [200  42 187 222]\n",
      "  [  0   0   0   0]\n",
      "  [  0   0   0   0]\n",
      "  [  0   0   0   0]\n",
      "  [  0   0   0   0]\n",
      "  [  0   0   0   0]]\n",
      "\n",
      " [[  5   8 386 239]\n",
      "  [ 73  15 110 215]\n",
      "  [195  68 137 155]\n",
      "  [  0   0   0   0]\n",
      "  [  0   0   0   0]\n",
      "  [  0   0   0   0]\n",
      "  [  0   0   0   0]\n",
      "  [  0   0   0   0]]\n",
      "\n",
      " [[  5   8 386 239]\n",
      "  [103  68 100 174]\n",
      "  [213  62  94 175]\n",
      "  [  0   0   0   0]\n",
      "  [  0   0   0   0]\n",
      "  [  0   0   0   0]\n",
      "  [  0   0   0   0]\n",
      "  [  0   0   0   0]]\n",
      "\n",
      " [[  5   8 386 239]\n",
      "  [  3  44 107 108]\n",
      "  [ 93   9  78 156]\n",
      "  [171  38  62 135]\n",
      "  [240  48  84 128]\n",
      "  [320  29  66 125]\n",
      "  [  0   0   0   0]\n",
      "  [  0   0   0   0]]]\n"
     ]
    }
   ],
   "source": [
    "print('Class Indices', targets_type[:2]) \n",
    "print('Bounding Boxes', targets_bboxes[:6])# Just display the first 5 to save space"
   ]
  }
 ],
 "metadata": {
  "kernelspec": {
   "display_name": "Python 3",
   "language": "python",
   "name": "python3"
  },
  "language_info": {
   "codemirror_mode": {
    "name": "ipython",
    "version": 3
   },
   "file_extension": ".py",
   "mimetype": "text/x-python",
   "name": "python",
   "nbconvert_exporter": "python",
   "pygments_lexer": "ipython3",
   "version": "3.7.4"
  }
 },
 "nbformat": 4,
 "nbformat_minor": 2
}
